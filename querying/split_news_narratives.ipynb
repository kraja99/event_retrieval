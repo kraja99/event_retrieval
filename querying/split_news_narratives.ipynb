{
 "cells": [
  {
   "cell_type": "code",
   "execution_count": 1,
   "id": "f9a6dedd",
   "metadata": {},
   "outputs": [],
   "source": [
    "import random\n",
    "import pickle\n",
    "import os"
   ]
  },
  {
   "cell_type": "code",
   "execution_count": 2,
   "id": "e084be3e",
   "metadata": {},
   "outputs": [
    {
     "name": "stderr",
     "output_type": "stream",
     "text": [
      "563065it [00:00, 1338132.36it/s]"
     ]
    },
    {
     "name": "stdout",
     "output_type": "stream",
     "text": [
      "74589\n",
      "['Within days of his inauguration , President Barack Obama signed executive orders to close the military prison at Guantanamo Bay within one year and to end torture in interrogation .', 'He missed the Jan. 22 deadline to close Guantanamo but reaffirmed this month that he intends to close the prison as soon as possible .', \"Obama has maintained other elements of the previous administration 's methods to capture and hold terrorism suspects .\", 'He has kept the military commission system to try certain terrorism suspects after strengthening evidentiary rules on behalf of defendants .', 'He also preserved the authority to capture terrorism suspects in foreign countries , a practice known as extraordinary rendition .', 'But he tightened the rules for where those captures can be made , limiting them to countries that do not have an effective rule of law .']\n"
     ]
    },
    {
     "name": "stderr",
     "output_type": "stream",
     "text": [
      "\n"
     ]
    }
   ],
   "source": [
    "news_filename = '../data/event_knowledge_2.0/news_narratives.txt'\n",
    "doc_to_text = {}\n",
    "last_doc_id = ''\n",
    "with open(news_filename) as news_narratives:\n",
    "    for line in news_narratives:\n",
    "        if line == '\\n':\n",
    "            continue\n",
    "        if line[:8] == '<doc_id>':\n",
    "            doc_to_text[line[9:].replace('\\n', '')] = []\n",
    "            last_doc_id = line[9:].replace('\\n', '')\n",
    "        if line[:6] == '<word>':\n",
    "            doc_to_text[last_doc_id] .append(line[7:].replace('\\n', ''))\n",
    "print(len(doc_to_text))\n",
    "print(doc_to_text['WPB_ENG_20100127.0025.1:6'])"
   ]
  },
  {
   "cell_type": "code",
   "execution_count": 3,
   "id": "77e6f6e9",
   "metadata": {},
   "outputs": [
    {
     "name": "stdout",
     "output_type": "stream",
     "text": [
      "55941 18648\n"
     ]
    }
   ],
   "source": [
    "train_split = random.sample(list(doc_to_text), int(len(doc_to_text)/2))\n",
    "train_dict = {t : doc_to_text[t] for t in train_split}\n",
    "test_dict = {}\n",
    "for k, v in doc_to_text.items():\n",
    "    if k not in train_split:\n",
    "        test_dict[k] = v\n",
    "print(len(train_dict), len(test_dict))\n",
    "split_path = '../data/news_narrative_splits/split1/'\n",
    "os.makedirs(split_path, exist_ok=True)\n",
    "with open(os.path.join(split_path, \"news_narratives_train.pkl\"), \"wb\") as outfile:\n",
    "    pickle.dump(train_dict, outfile)\n",
    "with open(os.path.join(split_path, \"news_narratives_test.pkl\"), \"wb\") as outfile:\n",
    "    pickle.dump(test_dict, outfile)"
   ]
  },
  {
   "cell_type": "code",
   "execution_count": 32,
   "id": "d57d9470",
   "metadata": {},
   "outputs": [],
   "source": [
    "# Find and output seeds\n",
    "with open(\"../data/news_narrative_splits/split1/news_narratives_train.pkl\", \"rb\") as outfile:\n",
    "    train_dict = pickle.load(outfile)\n",
    "# with open(\"../data/news_narrative_splits/split1/news_narratives_test.pkl\", \"rb\") as outfile:\n",
    "#     test_dict = pickle.load(outfile)\n",
    "seed_path = split_path + \"seeds/\"\n",
    "os.makedirs(seed_path, exist_ok=True)\n",
    "with open(os.path.join(seed_path, \"bomb_seeds.txt\"), \"w\") as outfile:\n",
    "    for doc, sents in train_dict.items():\n",
    "        for sent in sents:\n",
    "            if 'bomb' in sent:\n",
    "                print(doc, \"-\", sent, file=outfile)\n",
    "                break"
   ]
  }
 ],
 "metadata": {
  "kernelspec": {
   "display_name": "Python 3",
   "language": "python",
   "name": "python3"
  },
  "language_info": {
   "codemirror_mode": {
    "name": "ipython",
    "version": 3
   },
   "file_extension": ".py",
   "mimetype": "text/x-python",
   "name": "python",
   "nbconvert_exporter": "python",
   "pygments_lexer": "ipython3",
   "version": "3.8.12"
  }
 },
 "nbformat": 4,
 "nbformat_minor": 5
}
